{
 "cells": [
  {
   "cell_type": "markdown",
   "metadata": {},
   "source": [
    "## Import"
   ]
  },
  {
   "cell_type": "code",
   "execution_count": 1,
   "metadata": {},
   "outputs": [
    {
     "name": "stderr",
     "output_type": "stream",
     "text": [
      "[nltk_data] Downloading package punkt to\n",
      "[nltk_data]     C:\\Users\\NS\\AppData\\Roaming\\nltk_data...\n",
      "[nltk_data]   Package punkt is already up-to-date!\n",
      "[nltk_data] Downloading package wordnet to\n",
      "[nltk_data]     C:\\Users\\NS\\AppData\\Roaming\\nltk_data...\n",
      "[nltk_data]   Package wordnet is already up-to-date!\n"
     ]
    }
   ],
   "source": [
    "import numpy as np\n",
    "import pandas as pd\n",
    "\n",
    "from sklearn.preprocessing import LabelEncoder\n",
    "from sklearn.model_selection import train_test_split\n",
    "from sklearn.feature_extraction.text import CountVectorizer\n",
    "\n",
    "from sklearn.neighbors import KNeighborsClassifier\n",
    "from sklearn.tree import DecisionTreeClassifier\n",
    "from sklearn.ensemble import RandomForestClassifier\n",
    "from sklearn.ensemble import VotingClassifier\n",
    "from sklearn.linear_model import LogisticRegression\n",
    "from sklearn.linear_model import SGDClassifier\n",
    "from sklearn.naive_bayes import MultinomialNB\n",
    "from sklearn.svm import SVC\n",
    "\n",
    "from sklearn.metrics import classification_report\n",
    "from sklearn.metrics import accuracy_score\n",
    "from sklearn.metrics import confusion_matrix\n",
    "from sklearn.metrics import roc_auc_score\n",
    "from sklearn.metrics import roc_curve\n",
    "\n",
    "import nltk\n",
    "from nltk.corpus import stopwords\n",
    "from nltk.tokenize import word_tokenize\n",
    "nltk.download('punkt')\n",
    "from nltk.stem import WordNetLemmatizer\n",
    "nltk.download('wordnet')\n",
    "\n",
    "import string\n",
    "import re\n",
    "\n",
    "import matplotlib.pyplot as plt\n",
    "%matplotlib inline"
   ]
  },
  {
   "cell_type": "markdown",
   "metadata": {},
   "source": [
    "## Global Variables/Objects"
   ]
  },
  {
   "cell_type": "code",
   "execution_count": 2,
   "metadata": {},
   "outputs": [],
   "source": [
    "DATASET_FILENAME      = 'SMSSpamCollection'\n",
    "ENCODING              = 'utf-8'\n",
    "STOPWORDS             = set(stopwords.words('english'))\n",
    "PORTERSTEMMER         = nltk.PorterStemmer()\n",
    "ALL_WORDS             = list()\n",
    "FEATURES              = list()\n",
    "LABEL_ENCODER         = LabelEncoder()\n",
    "WORDNET_LEMMATIZER    = WordNetLemmatizer()\n",
    "\n",
    "# Regular expression patterns\n",
    "# Sources:\n",
    "# https://stackoverflow.com/questions/201323/how-to-validate-an-email-address-using-a-regular-expression\n",
    "# https://www.regextester.com/\n",
    "# https://regexr.com/\n",
    "# https://remarkablemark.org/blog/2019/09/28/javascript-remove-punctuation/\n",
    "# https://www.i2tutorials.com/match-urls-using-regular-expressions-in-python/\n",
    "\n",
    "EMAIL_REGEX            = '(?:[a-z0-9!#$%&\\'*+/=?^_`{|}~-]+(?:\\.[a-z0-9!#$%&\\'*+/=?^_`{|}~-]+)*|\"(?:[\\x01-\\x08\\x0b\\x0c\\x0e-\\x1f\\x21\\x23-\\x5b\\x5d-\\x7f]|\\\\[\\x01-\\x09\\x0b\\x0c\\x0e-\\x7f])*\")@(?:(?:[a-z0-9](?:[a-z0-9-]*[a-z0-9])?\\.)+[a-z0-9](?:[a-z0-9-]*[a-z0-9])?|\\[(?:(?:(2(5[0-5]|[0-4][0-9])|1[0-9][0-9]|[1-9]?[0-9]))\\.){3}(?:(2(5[0-5]|[0-4][0-9])|1[0-9][0-9]|[1-9]?[0-9])|[a-z0-9-]*[a-z0-9]:(?:[\\x01-\\x08\\x0b\\x0c\\x0e-\\x1f\\x21-\\x5a\\x53-\\x7f]|\\\\[\\x01-\\x09\\x0b\\x0c\\x0e-\\x7f])+)\\])'\n",
    "WEBURL_REGEX           = '(http|ftp|https):\\/\\/([\\w\\-_]+(?:(?:\\.[\\w\\-_]+)+))([\\w\\-\\.,@?^=%&:/~\\+#]*[\\w\\-\\@?^=%&/~\\+#])?'\n",
    "CURRENCY_REGEX         = '£|\\$|€'\n",
    "PHONE_REGEX            = '^[+]*[(]{0,1}[0-9]{1,4}[)]{0,1}[-\\s\\./0-9]*$'\n",
    "NUMBER_REGEX           = '\\d+(\\.\\d+)?'\n",
    "PUNCTUATION_REGEX      = f'[{string.punctuation}]+'\n",
    "EXTRA_WHITESPACE_REGEX = '\\s+'\n",
    "ENDS_WHITESPACE_REGEX  = '^\\s+|\\s+$'"
   ]
  },
  {
   "cell_type": "markdown",
   "metadata": {},
   "source": [
    "## Load dataset"
   ]
  },
  {
   "cell_type": "code",
   "execution_count": 3,
   "metadata": {},
   "outputs": [],
   "source": [
    "# Load sms spam collection dataset\n",
    "\n",
    "sms_messages_df = pd.read_table(DATASET_FILENAME,\n",
    "                                header=None,\n",
    "                                encoding=ENCODING)"
   ]
  },
  {
   "cell_type": "code",
   "execution_count": 4,
   "metadata": {},
   "outputs": [
    {
     "name": "stdout",
     "output_type": "stream",
     "text": [
      "<class 'pandas.core.frame.DataFrame'>\n",
      "RangeIndex: 5572 entries, 0 to 5571\n",
      "Data columns (total 2 columns):\n",
      " #   Column  Non-Null Count  Dtype \n",
      "---  ------  --------------  ----- \n",
      " 0   0       5572 non-null   object\n",
      " 1   1       5572 non-null   object\n",
      "dtypes: object(2)\n",
      "memory usage: 87.2+ KB\n"
     ]
    }
   ],
   "source": [
    "sms_messages_df.info()\n",
    "\n",
    "# So we can see we have two columns in the dataset\n",
    "# Both the columns have data as object type\n",
    "# Column 0 is class label, column 1 is sms text\n",
    "# class label can take two values: spam, ham\n",
    "# ham = not spam i.e. genuine message"
   ]
  },
  {
   "cell_type": "code",
   "execution_count": 5,
   "metadata": {},
   "outputs": [
    {
     "data": {
      "text/html": [
       "<div>\n",
       "<style scoped>\n",
       "    .dataframe tbody tr th:only-of-type {\n",
       "        vertical-align: middle;\n",
       "    }\n",
       "\n",
       "    .dataframe tbody tr th {\n",
       "        vertical-align: top;\n",
       "    }\n",
       "\n",
       "    .dataframe thead th {\n",
       "        text-align: right;\n",
       "    }\n",
       "</style>\n",
       "<table border=\"1\" class=\"dataframe\">\n",
       "  <thead>\n",
       "    <tr style=\"text-align: right;\">\n",
       "      <th></th>\n",
       "      <th>0</th>\n",
       "      <th>1</th>\n",
       "    </tr>\n",
       "  </thead>\n",
       "  <tbody>\n",
       "    <tr>\n",
       "      <th>0</th>\n",
       "      <td>ham</td>\n",
       "      <td>Go until jurong point, crazy.. Available only ...</td>\n",
       "    </tr>\n",
       "    <tr>\n",
       "      <th>1</th>\n",
       "      <td>ham</td>\n",
       "      <td>Ok lar... Joking wif u oni...</td>\n",
       "    </tr>\n",
       "    <tr>\n",
       "      <th>2</th>\n",
       "      <td>spam</td>\n",
       "      <td>Free entry in 2 a wkly comp to win FA Cup fina...</td>\n",
       "    </tr>\n",
       "    <tr>\n",
       "      <th>3</th>\n",
       "      <td>ham</td>\n",
       "      <td>U dun say so early hor... U c already then say...</td>\n",
       "    </tr>\n",
       "    <tr>\n",
       "      <th>4</th>\n",
       "      <td>ham</td>\n",
       "      <td>Nah I don't think he goes to usf, he lives aro...</td>\n",
       "    </tr>\n",
       "  </tbody>\n",
       "</table>\n",
       "</div>"
      ],
      "text/plain": [
       "      0                                                  1\n",
       "0   ham  Go until jurong point, crazy.. Available only ...\n",
       "1   ham                      Ok lar... Joking wif u oni...\n",
       "2  spam  Free entry in 2 a wkly comp to win FA Cup fina...\n",
       "3   ham  U dun say so early hor... U c already then say...\n",
       "4   ham  Nah I don't think he goes to usf, he lives aro..."
      ]
     },
     "execution_count": 5,
     "metadata": {},
     "output_type": "execute_result"
    }
   ],
   "source": [
    "sms_messages_df.head()"
   ]
  },
  {
   "cell_type": "code",
   "execution_count": 6,
   "metadata": {},
   "outputs": [
    {
     "data": {
      "text/plain": [
       "ham     4825\n",
       "spam     747\n",
       "Name: 0, dtype: int64"
      ]
     },
     "execution_count": 6,
     "metadata": {},
     "output_type": "execute_result"
    }
   ],
   "source": [
    "# Checking class label distribution\n",
    "\n",
    "sms_messages_df.iloc[:, 0].value_counts()\n",
    "# The dataset is unbalanced"
   ]
  },
  {
   "cell_type": "code",
   "execution_count": 7,
   "metadata": {},
   "outputs": [],
   "source": [
    "# Preparing separating feature and response variables\n",
    "\n",
    "# feature variable: sms text\n",
    "sms_text = sms_messages_df.iloc[:, 1]\n",
    "\n",
    "# response variable: class label (categorical)\n",
    "# encoding the class labels using label encoder \n",
    "sms_label = LABEL_ENCODER.fit_transform(sms_messages_df.iloc[:, 0].values)"
   ]
  },
  {
   "cell_type": "markdown",
   "metadata": {},
   "source": [
    "## Preprocessing"
   ]
  },
  {
   "cell_type": "code",
   "execution_count": 8,
   "metadata": {},
   "outputs": [],
   "source": [
    "def preprocess(text):\n",
    "    \"\"\"\n",
    "    Function to perform basic preprocessing on the text.\n",
    "    \"\"\"\n",
    "    \n",
    "    global EMAIL_REGEX\n",
    "    global WEB_URL\n",
    "    global CURRENVY_REGEX\n",
    "    global PHONE_REGEX\n",
    "    global NUMBER_REGEX\n",
    "    global PUNCTUATION_REGEX\n",
    "    global EXTRA_WHITESPACE_REGEX\n",
    "    global ENDS_WHITESPACE_REGEX\n",
    "    global STOPWORDS\n",
    "    \n",
    "    text = re.sub(rf'{EMAIL_REGEX}', 'emailid', text)\n",
    "    text = re.sub(rf'{WEBURL_REGEX}', 'weburl', text)\n",
    "    text = re.sub(rf'{CURRENCY_REGEX}', 'currencysymbol', text)\n",
    "    text = re.sub(rf'{PHONE_REGEX}', 'phonenumber', text)\n",
    "    text = re.sub(rf'{NUMBER_REGEX}', 'number', text)\n",
    "    text = re.sub(rf'{PUNCTUATION_REGEX}', ' ', text)\n",
    "    text = re.sub(rf'{EXTRA_WHITESPACE_REGEX}', ' ', text)\n",
    "    text = re.sub(rf'{ENDS_WHITESPACE_REGEX}', '', text)\n",
    "    text = text.lower()\n",
    "    text = ' '.join(word for word in text.split() if word not in STOPWORDS)\n",
    "    text = ' '.join(WORDNET_LEMMATIZER.lemmatize(word) for word in text.split())\n",
    "    \n",
    "    return text"
   ]
  },
  {
   "cell_type": "code",
   "execution_count": 9,
   "metadata": {},
   "outputs": [],
   "source": [
    "# Apply preprocessing\n",
    "\n",
    "preprocessed_sms_text = sms_text.apply(preprocess)"
   ]
  },
  {
   "cell_type": "code",
   "execution_count": 10,
   "metadata": {},
   "outputs": [],
   "source": [
    "# vectorize feature variable: sms text\n",
    "\n",
    "vectorizer = CountVectorizer()\n",
    "vectorizer.fit(preprocessed_sms_text.values)\n",
    "\n",
    "vectorized_sms_text = vectorizer.transform(preprocessed_sms_text.values)"
   ]
  },
  {
   "cell_type": "code",
   "execution_count": 11,
   "metadata": {},
   "outputs": [],
   "source": [
    "# prepare data for training:\n",
    "# train_X  : training instance of sms text\n",
    "# test_X   : testing instance of sms text\n",
    "# train_y  : training instance of label\n",
    "# test_y   : testing instance of label\n",
    "\n",
    "train_X, test_X, train_y, test_y = train_test_split(vectorized_sms_text,\n",
    "                                                    sms_label,\n",
    "                                                    test_size=0.10,\n",
    "                                                    stratify=sms_label)"
   ]
  },
  {
   "cell_type": "markdown",
   "metadata": {},
   "source": [
    "## Classification"
   ]
  },
  {
   "cell_type": "code",
   "execution_count": 12,
   "metadata": {},
   "outputs": [],
   "source": [
    "def classifiers():\n",
    "    \n",
    "    return [\n",
    "        ('KNeighborsClassifier', KNeighborsClassifier()),\n",
    "        ('DecisionTreeClassifier', DecisionTreeClassifier()),\n",
    "        ('RandomForestClassifier', RandomForestClassifier()),\n",
    "        ('LogisticRegression', LogisticRegression()),\n",
    "        ('SGDClassifier', SGDClassifier()),\n",
    "        ('MultinomialNB', MultinomialNB()),\n",
    "        ('SVC', SVC())\n",
    "    ]"
   ]
  },
  {
   "cell_type": "code",
   "execution_count": 13,
   "metadata": {},
   "outputs": [
    {
     "name": "stdout",
     "output_type": "stream",
     "text": [
      "KNeighborsClassifier Accuracy (%): 0.953405017921147\n",
      "DecisionTreeClassifier Accuracy (%): 0.9838709677419355\n",
      "RandomForestClassifier Accuracy (%): 0.989247311827957\n",
      "LogisticRegression Accuracy (%): 0.989247311827957\n",
      "SGDClassifier Accuracy (%): 0.9874551971326165\n",
      "MultinomialNB Accuracy (%): 0.974910394265233\n",
      "SVC Accuracy (%): 0.9838709677419355\n"
     ]
    }
   ],
   "source": [
    "# Training and testing data on different classifiers\n",
    "\n",
    "for clf_name, clf in classifiers():\n",
    "    # currently not updating any default parameters\n",
    "    clf.fit(train_X, train_y)\n",
    "    predictions_y = clf.predict(test_X)\n",
    "    accuracy = accuracy_score(test_y, predictions_y)\n",
    "    print(f'{clf_name} Accuracy (%): {accuracy:10}')"
   ]
  },
  {
   "cell_type": "code",
   "execution_count": 14,
   "metadata": {},
   "outputs": [
    {
     "name": "stdout",
     "output_type": "stream",
     "text": [
      "Voting Classifier Accuracy: 0.9874551971326165\n"
     ]
    }
   ],
   "source": [
    "# Training and testing data on ensemble of classifiers\n",
    "\n",
    "estimators = classifiers()\n",
    "clf = VotingClassifier(estimators = estimators, n_jobs=-1)\n",
    "clf.fit(train_X, train_y)\n",
    "predictions_y = clf.predict(test_X)\n",
    "accuracy = accuracy_score(test_y, predictions_y) \n",
    "print(f'Voting Classifier Accuracy: {accuracy:10}')"
   ]
  },
  {
   "cell_type": "code",
   "execution_count": 15,
   "metadata": {},
   "outputs": [
    {
     "data": {
      "text/plain": [
       "array([[483,   0],\n",
       "       [  7,  68]], dtype=int64)"
      ]
     },
     "execution_count": 15,
     "metadata": {},
     "output_type": "execute_result"
    }
   ],
   "source": [
    "confusion_matrix(test_y, predictions_y)"
   ]
  },
  {
   "cell_type": "code",
   "execution_count": 16,
   "metadata": {},
   "outputs": [
    {
     "data": {
      "text/plain": [
       "0.9533333333333334"
      ]
     },
     "execution_count": 16,
     "metadata": {},
     "output_type": "execute_result"
    }
   ],
   "source": [
    "roc_auc_score(test_y, predictions_y)"
   ]
  },
  {
   "cell_type": "code",
   "execution_count": 17,
   "metadata": {},
   "outputs": [],
   "source": [
    "fpr, tpr, threshold = roc_curve(test_y, predictions_y)"
   ]
  },
  {
   "cell_type": "code",
   "execution_count": 18,
   "metadata": {},
   "outputs": [
    {
     "data": {
      "image/png": "[encoded data removed]",
      "text/plain": [
       "<Figure size 432x288 with 1 Axes>"
      ]
     },
     "metadata": {
      "needs_background": "light"
     },
     "output_type": "display_data"
    }
   ],
   "source": [
    "plt.plot(fpr, tpr)\n",
    "plt.title('AUC Curve')\n",
    "plt.xlabel('false positive rate')\n",
    "plt.ylabel('true positives rate')\n",
    "plt.show()"
   ]
  },
  {
   "cell_type": "code",
   "execution_count": null,
   "metadata": {},
   "outputs": [],
   "source": []
  }
 ],
 "metadata": {
  "kernelspec": {
   "display_name": "Python 3",
   "language": "python",
   "name": "python3"
  },
  "language_info": {
   "codemirror_mode": {
    "name": "ipython",
    "version": 3
   },
   "file_extension": ".py",
   "mimetype": "text/x-python",
   "name": "python",
   "nbconvert_exporter": "python",
   "pygments_lexer": "ipython3",
   "version": "3.7.6"
  }
 },
 "nbformat": 4,
 "nbformat_minor": 4
}
